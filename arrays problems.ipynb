{
 "cells": [
  {
   "cell_type": "code",
   "execution_count": 74,
   "id": "5efcfb89-25b3-4837-952c-fbe7b3ebc5c7",
   "metadata": {},
   "outputs": [
    {
     "name": "stdout",
     "output_type": "stream",
     "text": [
      "1\n"
     ]
    }
   ],
   "source": [
    "                                                   #Practice questions: Easy\n",
    "#1)Find the smallest element among N inputted numbers\n",
    "def find_smallest(n):\n",
    "    return min(n)\n",
    "n= [3, 1, 4, 1, 5, 9, 2]\n",
    "print(find_smallest(n))"
   ]
  },
  {
   "cell_type": "code",
   "execution_count": 73,
   "id": "c7526578-52ab-4080-90d0-cc899914aa45",
   "metadata": {},
   "outputs": [
    {
     "name": "stdout",
     "output_type": "stream",
     "text": [
      "[5, 4, 3, 2, 1]\n"
     ]
    }
   ],
   "source": [
    "#2)Rearrange an array in reverse order without using a second array\n",
    "def reverse_array(x):\n",
    "    n = len(x)\n",
    "    for i in range(n // 2):\n",
    "        x[i], x[n - i - 1] = x[n - i - 1], x[i]\n",
    "    return x\n",
    "x= [1, 2, 3, 4, 5]\n",
    "print(reverse_array(x))"
   ]
  },
  {
   "cell_type": "code",
   "execution_count": 70,
   "id": "10cff1d9-d342-40a4-b5c9-5af79e52abf8",
   "metadata": {},
   "outputs": [
    {
     "name": "stdout",
     "output_type": "stream",
     "text": [
      "1.4142135623730951\n"
     ]
    }
   ],
   "source": [
    "#3)Calculate standard deviation of N numbers\n",
    "a = [1, 2, 3, 4, 5]\n",
    "mean = sum(a) / len(a)\n",
    "variance = sum((x - mean) ** 2 for x in a) / len(a)\n",
    "std_deviation = variance ** 0.5\n",
    "print( std_deviation)\n"
   ]
  },
  {
   "cell_type": "code",
   "execution_count": 69,
   "id": "9696675d-a91c-40a4-9be9-e366b96ce3db",
   "metadata": {},
   "outputs": [
    {
     "name": "stdout",
     "output_type": "stream",
     "text": [
      "3\n"
     ]
    }
   ],
   "source": [
    "#4)Count odd numbers in a set of integers\n",
    "def count_odd_numbers(num):\n",
    "    return sum(1 for x in num if x % 2 != 0)\n",
    "num = [1, 2, 3, 4, 5]\n",
    "print(count_odd_numbers(numbers))\n"
   ]
  },
  {
   "cell_type": "code",
   "execution_count": 68,
   "id": "c372f0fa-9983-4a6d-8ca3-cbea89dbaf26",
   "metadata": {},
   "outputs": [
    {
     "name": "stdout",
     "output_type": "stream",
     "text": [
      "5\n"
     ]
    }
   ],
   "source": [
    "#5)Find the largest odd number in a set of integers\n",
    "def largest_odd_number(num):\n",
    "    odd_numbers = [x for x in num if x % 2 != 0]\n",
    "    return max(odd_numbers) if odd_numbers else None\n",
    "num = [1, 2, 3, 4, 5]\n",
    "print(largest_odd_number(num))\n"
   ]
  },
  {
   "cell_type": "code",
   "execution_count": 67,
   "id": "07cc2620-4477-4b38-aa0e-80404b610faf",
   "metadata": {},
   "outputs": [
    {
     "name": "stdout",
     "output_type": "stream",
     "text": [
      "3\n"
     ]
    }
   ],
   "source": [
    "#6)Count the total number of prime numbers in a set of integers\n",
    "def is_prime(n):\n",
    "    if n <= 1:\n",
    "        return False\n",
    "    for i in range(2, int(n**0.5) + 1):\n",
    "        if n % i == 0:\n",
    "            return False\n",
    "    return True\n",
    "def count_primes(num):\n",
    "    return sum(1 for x in num if is_prime(x))\n",
    "num = [1, 2, 3, 4, 5, 11, 13]\n",
    "print(count_primes(numbers))\n"
   ]
  },
  {
   "cell_type": "code",
   "execution_count": 66,
   "id": "68786689-12ce-4bde-b1c6-dc7709790854",
   "metadata": {},
   "outputs": [
    {
     "name": "stdout",
     "output_type": "stream",
     "text": [
      "4\n"
     ]
    }
   ],
   "source": [
    "#7)Find the second highest element among N inputted numbers\n",
    "def second_highest(num):\n",
    "    unique = list(set(num))\n",
    "    unique.sort()\n",
    "    return unique[-2] if len(unique) >= 2 else None\n",
    "num = [1, 3, 4, 5, 0, 2]\n",
    "print(second_highest(num))\n"
   ]
  },
  {
   "cell_type": "code",
   "execution_count": 65,
   "id": "b8e963d7-6f82-47cc-9f83-d4094b690ac5",
   "metadata": {},
   "outputs": [
    {
     "name": "stdout",
     "output_type": "stream",
     "text": [
      "4\n"
     ]
    }
   ],
   "source": [
    "#8)Find the largest difference in a set of numbers\n",
    "def largest_difference(numbers):\n",
    "    return max(numbers) - min(numbers)\n",
    "numbers = [1, 2, 3, 4, 5]\n",
    "print( largest_difference(numbers))\n"
   ]
  },
  {
   "cell_type": "code",
   "execution_count": 64,
   "id": "0d30aa9e-bcbd-437d-b0b9-96acae26a84e",
   "metadata": {},
   "outputs": [
    {
     "name": "stdout",
     "output_type": "stream",
     "text": [
      "1011\n"
     ]
    }
   ],
   "source": [
    "#9)Find the binary equivalent of a decimal number\n",
    "def decimal_to_binary(n):\n",
    "    return bin(n).replace(\"0b\", \"\")\n",
    "number = 11\n",
    "print(decimal_to_binary(number))\n"
   ]
  },
  {
   "cell_type": "code",
   "execution_count": 63,
   "id": "b640a476-9882-49ef-9e33-8786d3009ee2",
   "metadata": {},
   "outputs": [
    {
     "name": "stdout",
     "output_type": "stream",
     "text": [
      "[1, 2, 4, 5]\n"
     ]
    }
   ],
   "source": [
    "#10)Delete an element from the k-th position of an array\n",
    "def delete_element(arr, k):\n",
    "    if 0 <= k < len(arr):\n",
    "        del arr[k]\n",
    "    return arr\n",
    "arr = [1, 2, 3, 4, 5]\n",
    "k = 2\n",
    "print(delete_element(arr, k))\n"
   ]
  },
  {
   "cell_type": "code",
   "execution_count": 62,
   "id": "74d51bc1-a851-4080-9b92-83bf0abd66e5",
   "metadata": {},
   "outputs": [
    {
     "name": "stdout",
     "output_type": "stream",
     "text": [
      "[1, 2, 3, 4, 5]\n"
     ]
    }
   ],
   "source": [
    "#11)Insert an element at its proper position in a previously sorted array\n",
    "def insert_sorted(arr, element):\n",
    "    arr.append(element)\n",
    "    arr.sort()\n",
    "    return arr\n",
    "arr = [1, 2, 4, 5]\n",
    "element = 3\n",
    "print(insert_sorted(arr, element))\n"
   ]
  },
  {
   "cell_type": "code",
   "execution_count": 61,
   "id": "6a26b531-0cbc-4b2d-b4b5-fc052a2c37cf",
   "metadata": {},
   "outputs": [
    {
     "name": "stdout",
     "output_type": "stream",
     "text": [
      "[1, 2, 3, 4, 5]\n"
     ]
    }
   ],
   "source": [
    "#12)Find the union of two sets of numbers\n",
    "def union_of_sets(set1, set2):\n",
    "    return list(set(set1) | set(set2))\n",
    "set1 = [1, 2, 3]\n",
    "set2 = [3, 4, 5]\n",
    "print(union_of_sets(set1, set2))\n"
   ]
  },
  {
   "cell_type": "code",
   "execution_count": null,
   "id": "3f6766c8-729b-4224-9b98-6ccac0e540b1",
   "metadata": {},
   "outputs": [],
   "source": [
    "                                             #Practice questions: Intermediate"
   ]
  },
  {
   "cell_type": "code",
   "execution_count": 37,
   "id": "6434b36d-c232-402f-84ce-270462db83e6",
   "metadata": {},
   "outputs": [
    {
     "name": "stdout",
     "output_type": "stream",
     "text": [
      "[1, 3, 12, 0, 0]\n"
     ]
    }
   ],
   "source": [
    "#1)Move Zeroes to the End\n",
    "def move_zeroes(n):\n",
    "    non_zero_index = 0\n",
    "    for i in range(len(n)):\n",
    "        if n[i] != 0:\n",
    "            n[non_zero_index], n[i] = n[i], n[non_zero_index]\n",
    "            non_zero_index += 1\n",
    "    return n\n",
    "n = [0, 1, 0, 3, 12]\n",
    "print(move_zeroes(n))\n",
    "\n"
   ]
  },
  {
   "cell_type": "code",
   "execution_count": 38,
   "id": "aac5dd6e-6ecc-4f4e-9613-11c193c12e3e",
   "metadata": {},
   "outputs": [
    {
     "name": "stdout",
     "output_type": "stream",
     "text": [
      "[4, 5, 1, 2, 3]\n"
     ]
    }
   ],
   "source": [
    "#2)Array Rotation (Rotate Right by k Positions)\n",
    "def rotate_array(arr, k):\n",
    "    n = len(arr)\n",
    "    arr[:] = arr[-k % n:] + arr[:-k % n]\n",
    "    return arr\n",
    "arr = [1, 2, 3, 4, 5]\n",
    "k = 2\n",
    "print(rotate_array(arr, k))"
   ]
  },
  {
   "cell_type": "code",
   "execution_count": 39,
   "id": "c8de0526-b336-4c3e-8fb3-7fa289aa98c7",
   "metadata": {},
   "outputs": [
    {
     "name": "stdout",
     "output_type": "stream",
     "text": [
      "[24, 12, 8, 6]\n"
     ]
    }
   ],
   "source": [
    "#3)Product of All Elements Except Itself\n",
    "def product_except_self(arr):\n",
    "    n = len(arr)\n",
    "    result = [1] * n\n",
    "    left_product = 1\n",
    "    for i in range(n):\n",
    "        result[i] *= left_product\n",
    "        left_product *= arr[i]\n",
    "    right_product = 1\n",
    "    for i in range(n-1, -1, -1):\n",
    "        result[i] *= right_product\n",
    "        right_product *= arr[i]\n",
    "    return result\n",
    "arr = [1, 2, 3, 4]\n",
    "print(product_except_self(arr))\n"
   ]
  },
  {
   "cell_type": "code",
   "execution_count": 40,
   "id": "12921ff0-2a31-45b1-a6f9-a32dcdd8bcf8",
   "metadata": {},
   "outputs": [
    {
     "name": "stdout",
     "output_type": "stream",
     "text": [
      "[0, 1]\n"
     ]
    }
   ],
   "source": [
    "#4)Two Sum Problem\n",
    "def two_sum(arr, target):\n",
    "    sum = {}\n",
    "    for i, num in enumerate(arr):\n",
    "        complement = target - num\n",
    "        if complement in sum:\n",
    "            return [sum[complement], i]\n",
    "        sum[num] = i\n",
    "arr = [2, 7, 11, 15]\n",
    "target = 9\n",
    "print(two_sum(arr, target))\n"
   ]
  },
  {
   "cell_type": "code",
   "execution_count": 44,
   "id": "f411f19d-5f1b-414f-9201-405cead9c671",
   "metadata": {},
   "outputs": [
    {
     "name": "stdout",
     "output_type": "stream",
     "text": [
      "2\n"
     ]
    }
   ],
   "source": [
    "#5)Minimum Number of Jumps to Reach End\n",
    "def min_jumps(arr):\n",
    "    n = len(arr)\n",
    "    if n == 1:\n",
    "        return 0\n",
    "    max_reach = arr[0]\n",
    "    a = arr[0]\n",
    "    b = 1\n",
    "    for i in range(1, n):\n",
    "        if i == n - 1:\n",
    "            return b\n",
    "        max_reach = max(max_reach, i + arr[i])\n",
    "        a -= 1\n",
    "        if a == 0:\n",
    "            b += 1\n",
    "            if i >= max_reach:\n",
    "                return float('inf')\n",
    "            steps = max_reach - i\n",
    "arr = [6, 2, 4, 0, 5, 1, 1, 4, 2, 9]\n",
    "print(min_jumps(arr))\n"
   ]
  },
  {
   "cell_type": "code",
   "execution_count": 45,
   "id": "51e8bc3a-7006-48e5-ace7-87d0107eca36",
   "metadata": {},
   "outputs": [
    {
     "name": "stdout",
     "output_type": "stream",
     "text": [
      "[0, 0, 1, 1, 2, 2]\n"
     ]
    }
   ],
   "source": [
    "#6)Sort Colors (Dutch National Flag Problem)\n",
    "def sort_colors(arr):\n",
    "    low = 0\n",
    "    mid = 0\n",
    "    high = len(arr) - 1\n",
    "    while mid <= high:\n",
    "        if arr[mid] == 0:\n",
    "            arr[low], arr[mid] = arr[mid], arr[low]\n",
    "            low += 1\n",
    "            mid += 1\n",
    "        elif arr[mid] == 1:\n",
    "            mid += 1\n",
    "        else:\n",
    "            arr[mid], arr[high] = arr[high], arr[mid]\n",
    "            high -= 1\n",
    "    return arr\n",
    "arr = [2, 0, 2, 1, 1, 0]\n",
    "print(sort_colors(arr))\n"
   ]
  },
  {
   "cell_type": "code",
   "execution_count": 46,
   "id": "503fcc4d-090a-4b13-9aec-b1605481dab5",
   "metadata": {},
   "outputs": [
    {
     "name": "stdout",
     "output_type": "stream",
     "text": [
      "6\n"
     ]
    }
   ],
   "source": [
    "#7)Trapping Rain Water\n",
    "def trap_rain_water(arr):\n",
    "    n = len(arr)\n",
    "    left_max = [0] * n\n",
    "    right_max = [0] * n\n",
    "    x = 0\n",
    "    left_max[0] = arr[0]\n",
    "    for i in range(1, n):\n",
    "        left_max[i] = max(left_max[i-1], arr[i])\n",
    "    right_max[n-1] = arr[n-1]\n",
    "    for i in range(n-2, -1, -1):\n",
    "        right_max[i] = max(right_max[i+1], arr[i])\n",
    "    for i in range(n):\n",
    "        x += min(left_max[i], right_max[i]) - arr[i]\n",
    "    return x\n",
    "arr = [0, 1, 0, 2, 1, 0, 1, 3, 2, 1, 2, 1]\n",
    "print(trap_rain_water(arr))\n"
   ]
  },
  {
   "cell_type": "code",
   "execution_count": null,
   "id": "74d3689c-d7fa-47d2-8a36-60d60d56bf33",
   "metadata": {},
   "outputs": [],
   "source": [
    "                                     #Practice questions: Difficult"
   ]
  },
  {
   "cell_type": "code",
   "execution_count": 60,
   "id": "56b74254-b5bc-4112-a913-49038b5a4c44",
   "metadata": {},
   "outputs": [
    {
     "name": "stdout",
     "output_type": "stream",
     "text": [
      "[600, 1500, 2400]\n",
      "[1200, 1500, 1800]\n",
      "4500\n"
     ]
    }
   ],
   "source": [
    "#1)Total Sales Calculation\n",
    "sales = [\n",
    "    [100, 200, 300],\n",
    "    [400, 500, 600],\n",
    "    [700, 800, 900]\n",
    "]\n",
    "a = [sum(employee) for employee in sales]\n",
    "b = [sum(month) for month in zip(*sales)]\n",
    "c = sum(a)\n",
    "print(a)\n",
    "print(b)\n",
    "print(c)\n"
   ]
  },
  {
   "cell_type": "code",
   "execution_count": 50,
   "id": "ed562b9f-1c9c-46a8-9fbf-25fd00987380",
   "metadata": {},
   "outputs": [
    {
     "name": "stdout",
     "output_type": "stream",
     "text": [
      "0\n"
     ]
    }
   ],
   "source": [
    "#2)Determinant of a Matrix\n",
    "def determinant(matrix):\n",
    "    if len(matrix) == 2:\n",
    "        return matrix[0][0] * matrix[1][1] - matrix[0][1] * matrix[1][0]\n",
    "    det = 0\n",
    "    for c in range(len(matrix)):\n",
    "        submatrix = [row[:c] + row[c+1:] for row in (matrix[1:])]\n",
    "        sign = (-1) ** c\n",
    "        sub_det = determinant(submatrix)\n",
    "        det += (sign * matrix[0][c] * sub_det)\n",
    "    return det\n",
    "matrix = [\n",
    "    [1, 2, 3],\n",
    "    [4, 5, 6],\n",
    "    [7, 8, 9]\n",
    "]\n",
    "print(determinant(matrix))"
   ]
  },
  {
   "cell_type": "code",
   "execution_count": 4,
   "id": "c2782b09-0e3a-418d-abd7-5107981dffc7",
   "metadata": {},
   "outputs": [
    {
     "name": "stdout",
     "output_type": "stream",
     "text": [
      "15\n"
     ]
    }
   ],
   "source": [
    "#3)Sum of Diagonal Elements of a Square Matrix\n",
    "matrix = [\n",
    "    [1, 2, 3],\n",
    "    [4, 5, 6],\n",
    "    [7, 8, 9]\n",
    "]\n",
    "sum_diagonal = sum(matrix[i][i] for i in range(len(matrix)))\n",
    "print(sum_diagonal)\n"
   ]
  },
  {
   "cell_type": "code",
   "execution_count": 58,
   "id": "50af2cc2-6794-43f4-9c31-26f20a97995c",
   "metadata": {},
   "outputs": [
    {
     "name": "stdout",
     "output_type": "stream",
     "text": [
      "[36, 34]\n",
      "[7, 6]\n",
      "[32.285714285714285, 31.0]\n"
     ]
    }
   ],
   "source": [
    "#4)Maximum Temperature Analysis\n",
    "temp = [\n",
    "    [30, 32, 33, 31, 29, 35, 36],\n",
    "    [28, 29, 31, 30, 33, 34, 32], \n",
    "]\n",
    "a = [max(city) for city in temp]\n",
    "b = [city.index(max(city)) + 1 for city in temp] \n",
    "c = [sum(city) / len(city) for city in temp]\n",
    "print(a)\n",
    "print(b)\n",
    "print(c)\n"
   ]
  },
  {
   "cell_type": "code",
   "execution_count": 57,
   "id": "8f515c55-1046-42aa-a156-d0e4e6c7a527",
   "metadata": {},
   "outputs": [
    {
     "name": "stdout",
     "output_type": "stream",
     "text": [
      "[[1, 0, 1], [0, 0, 0], [1, 0, 1]]\n"
     ]
    }
   ],
   "source": [
    "#5)Set Matrix Zeroes\n",
    "def set_zeroes(matrix):\n",
    "    m, n = len(matrix), len(matrix[0])\n",
    "    rows, cols = set(), set()\n",
    "    for i in range(m):\n",
    "        for j in range(n):\n",
    "            if matrix[i][j] == 0:\n",
    "                rows.add(i)\n",
    "                cols.add(j)\n",
    "    for i in range(m):\n",
    "        for j in range(n):\n",
    "            if i in rows or j in cols:\n",
    "                matrix[i][j] = 0\n",
    "matrix = [\n",
    "    [1, 1, 1],\n",
    "    [1, 0, 1],\n",
    "    [1, 1, 1]\n",
    "]\n",
    "set_zeroes(matrix)\n",
    "print(matrix)\n"
   ]
  },
  {
   "cell_type": "code",
   "execution_count": null,
   "id": "407c5ee5-07a8-48de-867a-3525a581888c",
   "metadata": {},
   "outputs": [],
   "source": []
  }
 ],
 "metadata": {
  "kernelspec": {
   "display_name": "Python 3 (ipykernel)",
   "language": "python",
   "name": "python3"
  },
  "language_info": {
   "codemirror_mode": {
    "name": "ipython",
    "version": 3
   },
   "file_extension": ".py",
   "mimetype": "text/x-python",
   "name": "python",
   "nbconvert_exporter": "python",
   "pygments_lexer": "ipython3",
   "version": "3.12.4"
  }
 },
 "nbformat": 4,
 "nbformat_minor": 5
}
