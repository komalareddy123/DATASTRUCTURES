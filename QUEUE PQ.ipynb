{
 "cells": [
  {
   "cell_type": "code",
   "execution_count": 1,
   "id": "8d5288e1-891b-4433-b882-f46854ba0cae",
   "metadata": {},
   "outputs": [
    {
     "name": "stdout",
     "output_type": "stream",
     "text": [
      "1\n",
      "2\n",
      "False\n"
     ]
    }
   ],
   "source": [
    "#1. Queue Using Two Stacks\n",
    "\n",
    "class QueueUsingTwoStacks:\n",
    "    def __init__(self):\n",
    "        self.stack1 = []\n",
    "        self.stack2 = []\n",
    "\n",
    "    def enqueue(self, x):\n",
    "        self.stack1.append(x)\n",
    "\n",
    "    def dequeue(self):\n",
    "        if not self.stack2:\n",
    "            while self.stack1:\n",
    "                self.stack2.append(self.stack1.pop())\n",
    "        return self.stack2.pop() if self.stack2 else None\n",
    "\n",
    "    def peek(self):\n",
    "        if not self.stack2:\n",
    "            while self.stack1:\n",
    "                self.stack2.append(self.stack1.pop())\n",
    "        return self.stack2[-1] if self.stack2 else None\n",
    "\n",
    "    def is_empty(self):\n",
    "        return not self.stack1 and not self.stack2\n",
    "\n",
    "\n",
    "queue = QueueUsingTwoStacks()\n",
    "queue.enqueue(1)\n",
    "queue.enqueue(2)\n",
    "queue.enqueue(3)\n",
    "print(queue.dequeue())  \n",
    "print(queue.peek())     \n",
    "print(queue.is_empty()) \n"
   ]
  },
  {
   "cell_type": "code",
   "execution_count": 2,
   "id": "615c801b-35d7-4b4b-9e38-28fe850c384a",
   "metadata": {},
   "outputs": [
    {
     "name": "stdout",
     "output_type": "stream",
     "text": [
      "3 2 1 "
     ]
    }
   ],
   "source": [
    "#2. Reverse a Queue Using Recursion\n",
    "\n",
    "class CustomQueue:\n",
    "    def __init__(self):\n",
    "        self.queue = []\n",
    "\n",
    "    def enqueue(self, x):\n",
    "        self.queue.append(x)\n",
    "\n",
    "    def dequeue(self):\n",
    "        if not self.queue:\n",
    "            return None\n",
    "        return self.queue.pop(0)\n",
    "\n",
    "    def is_empty(self):\n",
    "        return len(self.queue) == 0\n",
    "\n",
    "    def reverse_queue(self):\n",
    "        if self.is_empty():\n",
    "            return\n",
    "        front = self.dequeue()\n",
    "        self.reverse_queue()\n",
    "        self.enqueue(front)\n",
    "\n",
    "\n",
    "queue = CustomQueue()\n",
    "queue.enqueue(1)\n",
    "queue.enqueue(2)\n",
    "queue.enqueue(3)\n",
    "queue.reverse_queue()\n",
    "while not queue.is_empty():\n",
    "    print(queue.dequeue(), end=\" \")  \n"
   ]
  },
  {
   "cell_type": "code",
   "execution_count": 3,
   "id": "10767e6f-6933-4742-b257-7c618f25db0d",
   "metadata": {},
   "outputs": [
    {
     "name": "stdout",
     "output_type": "stream",
     "text": [
      "3\n",
      "3\n",
      "2\n"
     ]
    }
   ],
   "source": [
    "#3. Queue Supporting max() Operation\n",
    "\n",
    "class MaxQueue:\n",
    "    def __init__(self):\n",
    "        self.queue = []\n",
    "        self.max_queue = []\n",
    "\n",
    "    def enqueue(self, x):\n",
    "        self.queue.append(x)\n",
    "        while self.max_queue and self.max_queue[-1] < x:\n",
    "            self.max_queue.pop()\n",
    "        self.max_queue.append(x)\n",
    "\n",
    "    def dequeue(self):\n",
    "        if not self.queue:\n",
    "            return None\n",
    "        value = self.queue.pop(0)\n",
    "        if value == self.max_queue[0]:\n",
    "            self.max_queue.pop(0)\n",
    "        return value\n",
    "\n",
    "    def max(self):\n",
    "        if not self.max_queue:\n",
    "            return None\n",
    "        return self.max_queue[0]\n",
    "\n",
    "\n",
    "queue = MaxQueue()\n",
    "queue.enqueue(1)\n",
    "queue.enqueue(3)\n",
    "queue.enqueue(2)\n",
    "print(queue.max())    \n",
    "queue.dequeue()\n",
    "print(queue.max())    \n",
    "queue.dequeue()\n",
    "print(queue.max())    \n"
   ]
  },
  {
   "cell_type": "code",
   "execution_count": 4,
   "id": "ed103713-cd01-4df7-bd0e-2333df543abf",
   "metadata": {},
   "outputs": [
    {
     "name": "stdout",
     "output_type": "stream",
     "text": [
      "1 2 3 4 5 6 "
     ]
    }
   ],
   "source": [
    "#4. Merge Two Queues\n",
    "\n",
    "class CustomQueue:\n",
    "    def __init__(self):\n",
    "        self.queue = []\n",
    "\n",
    "    def enqueue(self, x):\n",
    "        self.queue.append(x)\n",
    "\n",
    "    def dequeue(self):\n",
    "        if not self.queue:\n",
    "            return None\n",
    "        return self.queue.pop(0)\n",
    "\n",
    "    def is_empty(self):\n",
    "        return len(self.queue) == 0\n",
    "\n",
    "def merge_queues(q1, q2):\n",
    "    merged = CustomQueue()\n",
    "    while not q1.is_empty() or not q2.is_empty():\n",
    "        if not q1.is_empty():\n",
    "            merged.enqueue(q1.dequeue())\n",
    "        if not q2.is_empty():\n",
    "            merged.enqueue(q2.dequeue())\n",
    "    return merged\n",
    "\n",
    "\n",
    "q1 = CustomQueue()\n",
    "q2 = CustomQueue()\n",
    "q1.enqueue(1)\n",
    "q1.enqueue(3)\n",
    "q1.enqueue(5)\n",
    "q2.enqueue(2)\n",
    "q2.enqueue(4)\n",
    "q2.enqueue(6)\n",
    "merged_queue = merge_queues(q1, q2)\n",
    "while not merged_queue.is_empty():\n",
    "    print(merged_queue.dequeue(), end=\" \")  \n"
   ]
  },
  {
   "cell_type": "code",
   "execution_count": 5,
   "id": "68f8a182-c453-4c29-bf2d-fdc1d4bbda07",
   "metadata": {},
   "outputs": [
    {
     "name": "stdout",
     "output_type": "stream",
     "text": [
      "3\n"
     ]
    }
   ],
   "source": [
    "#5. Count Occurrences of a Specific Element\n",
    "\n",
    "class CustomQueue:\n",
    "    def __init__(self):\n",
    "        self.queue = []\n",
    "\n",
    "    def enqueue(self, x):\n",
    "        self.queue.append(x)\n",
    "\n",
    "    def dequeue(self):\n",
    "        if not self.queue:\n",
    "            return None\n",
    "        return self.queue.pop(0)\n",
    "\n",
    "    def count_occurrences(self, element):\n",
    "        count = 0\n",
    "        for item in self.queue:\n",
    "            if item == element:\n",
    "                count += 1\n",
    "        return count\n",
    "\n",
    "\n",
    "queue = CustomQueue()\n",
    "queue.enqueue(1)\n",
    "queue.enqueue(2)\n",
    "queue.enqueue(3)\n",
    "queue.enqueue(2)\n",
    "queue.enqueue(2)\n",
    "print(queue.count_occurrences(2))  \n"
   ]
  },
  {
   "cell_type": "code",
   "execution_count": 6,
   "id": "db89e9be-9f90-4ff3-842f-5445cf6e883f",
   "metadata": {},
   "outputs": [
    {
     "name": "stdout",
     "output_type": "stream",
     "text": [
      "World Hello\n"
     ]
    }
   ],
   "source": [
    "#6. Reverse Words in a Sentence\n",
    "\n",
    "class CustomQueue:\n",
    "    def __init__(self):\n",
    "        self.queue = []\n",
    "\n",
    "    def enqueue(self, x):\n",
    "        self.queue.append(x)\n",
    "\n",
    "    def dequeue(self):\n",
    "        if not self.queue:\n",
    "            return None\n",
    "        return self.queue.pop(0)\n",
    "\n",
    "    def is_empty(self):\n",
    "        return len(self.queue) == 0\n",
    "\n",
    "def reverse_words(sentence):\n",
    "    words = sentence.split()\n",
    "    queue = CustomQueue()\n",
    "    for word in words:\n",
    "        queue.enqueue(word)\n",
    "    reversed_sentence = []\n",
    "    while not queue.is_empty():\n",
    "        reversed_sentence.insert(0, queue.dequeue())\n",
    "    return \" \".join(reversed_sentence)\n",
    "\n",
    "\n",
    "sentence = \"Hello World\"\n",
    "print(reverse_words(sentence))  \n"
   ]
  },
  {
   "cell_type": "code",
   "execution_count": 7,
   "id": "c3076cd8-3fd4-485a-a49b-c912fb559ca1",
   "metadata": {},
   "outputs": [
    {
     "name": "stdout",
     "output_type": "stream",
     "text": [
      "True\n",
      "False\n"
     ]
    }
   ],
   "source": [
    "#7. Queue with contains(x) Operation\n",
    "\n",
    "class CustomQueue:\n",
    "    def __init__(self):\n",
    "        self.queue = []\n",
    "\n",
    "    def enqueue(self, x):\n",
    "        self.queue.append(x)\n",
    "\n",
    "    def dequeue(self):\n",
    "        if not self.queue:\n",
    "            return None\n",
    "        return self.queue.pop(0)\n",
    "\n",
    "    def contains(self, x):\n",
    "        for item in self.queue:\n",
    "            if item == x:\n",
    "                return True\n",
    "        return False\n",
    "\n",
    "\n",
    "queue = CustomQueue()\n",
    "queue.enqueue(1)\n",
    "queue.enqueue(2)\n",
    "queue.enqueue(3)\n",
    "print(queue.contains(2))  \n",
    "queue.dequeue()\n",
    "print(queue.contains(1))  \n"
   ]
  },
  {
   "cell_type": "code",
   "execution_count": null,
   "id": "7cb6723c-52ff-4e70-8d04-e85eb18e98a8",
   "metadata": {},
   "outputs": [],
   "source": []
  }
 ],
 "metadata": {
  "kernelspec": {
   "display_name": "Python 3 (ipykernel)",
   "language": "python",
   "name": "python3"
  },
  "language_info": {
   "codemirror_mode": {
    "name": "ipython",
    "version": 3
   },
   "file_extension": ".py",
   "mimetype": "text/x-python",
   "name": "python",
   "nbconvert_exporter": "python",
   "pygments_lexer": "ipython3",
   "version": "3.12.4"
  }
 },
 "nbformat": 4,
 "nbformat_minor": 5
}
