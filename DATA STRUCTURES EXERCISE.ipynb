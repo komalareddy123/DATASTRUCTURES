{
 "cells": [
  {
   "cell_type": "code",
   "execution_count": 1,
   "id": "6552e6bf-416c-4715-af01-46cfa7e3b132",
   "metadata": {},
   "outputs": [
    {
     "name": "stdout",
     "output_type": "stream",
     "text": [
      "Smallest: -3\n",
      "Largest: 99\n"
     ]
    }
   ],
   "source": [
    "def find_largest_and_smallest(arr):\n",
    "    if len(arr) == 0:\n",
    "        return None, None  # Return None if the array is empty\n",
    "\n",
    "    # Initialize the largest and smallest with the first element\n",
    "    smallest = largest = arr[0]\n",
    "\n",
    "    for num in arr[1:]:\n",
    "        if num < smallest:\n",
    "            smallest = num\n",
    "        elif num > largest:\n",
    "            largest = num\n",
    "\n",
    "    return smallest, largest\n",
    "\n",
    "# Example usage\n",
    "array = [34, 78, 2, 45, 67, 99, -3, 0]\n",
    "smallest, largest = find_largest_and_smallest(array)\n",
    "print(\"Smallest:\", smallest)\n",
    "print(\"Largest:\", largest)\n"
   ]
  },
  {
   "cell_type": "code",
   "execution_count": 2,
   "id": "4418cd08-d2a3-46aa-91b3-821548687c25",
   "metadata": {},
   "outputs": [
    {
     "name": "stdout",
     "output_type": "stream",
     "text": [
      "Sum: 150\n",
      "Average: 30.0\n"
     ]
    }
   ],
   "source": [
    "def calculate_sum_and_average(arr):\n",
    "    if not arr:\n",
    "        return 0, 0  # Return 0 for both if the array is empty\n",
    "\n",
    "    total_sum = sum(arr)  # Calculate the sum\n",
    "    average = total_sum / len(arr)  # Calculate the average\n",
    "\n",
    "    return total_sum, average\n",
    "\n",
    "# Example usage\n",
    "array = [10, 20, 30, 40, 50]\n",
    "total_sum, average = calculate_sum_and_average(array)\n",
    "print(\"Sum:\", total_sum)\n",
    "print(\"Average:\", average)\n"
   ]
  },
  {
   "cell_type": "code",
   "execution_count": 3,
   "id": "ff31bfd9-56ba-4bb8-833a-2cdb28c8526f",
   "metadata": {},
   "outputs": [
    {
     "name": "stdout",
     "output_type": "stream",
     "text": [
      "Original Array: [1, 2, 3, 4, 5]\n",
      "Reversed Array: [5, 4, 3, 2, 1]\n"
     ]
    }
   ],
   "source": [
    "def reverse_array(arr):\n",
    "    reversed_array = []\n",
    "    for i in range(len(arr) - 1, -1, -1):  # Iterate from the last index to the first\n",
    "        reversed_array.append(arr[i])\n",
    "    return reversed_array\n",
    "\n",
    "# Example usage\n",
    "array = [1, 2, 3, 4, 5]\n",
    "reversed_array = reverse_array(array)\n",
    "print(\"Original Array:\", array)\n",
    "print(\"Reversed Array:\", reversed_array)\n"
   ]
  },
  {
   "cell_type": "code",
   "execution_count": 4,
   "id": "a97d9c1e-8638-415c-82b7-7372506d71a7",
   "metadata": {},
   "outputs": [
    {
     "name": "stdout",
     "output_type": "stream",
     "text": [
      "Original Array: [1, 2, 2, 3, 4, 4, 5, 6, 6]\n",
      "Array without Duplicates: [1, 2, 3, 4, 5, 6]\n"
     ]
    }
   ],
   "source": [
    "def remove_duplicates(arr):\n",
    "    unique_array = list(set(arr))\n",
    "    return unique_array\n",
    "array = [1, 2, 2, 3, 4, 4, 5, 6, 6]\n",
    "unique_array = remove_duplicates(array)\n",
    "print(\"Original Array:\", array)\n",
    "print(\"Array without Duplicates:\", unique_array)\n"
   ]
  },
  {
   "cell_type": "code",
   "execution_count": 3,
   "id": "a5d3c82f-1de1-4214-b909-83b4677f42a5",
   "metadata": {},
   "outputs": [
    {
     "data": {
      "text/plain": [
       "89"
      ]
     },
     "execution_count": 3,
     "metadata": {},
     "output_type": "execute_result"
    }
   ],
   "source": [
    "#Fibonacci series using reccurssive\n",
    "def fibonacci(n):\n",
    "    if n <= 0:\n",
    "        return 0\n",
    "    elif n == 1:\n",
    "        return 1\n",
    "    else:\n",
    "        return fibonacci(n-1) + fibonacci(n-2)\n",
    "n=11\n",
    "a=fibonacci(n)\n",
    "a"
   ]
  },
  {
   "cell_type": "code",
   "execution_count": 2,
   "id": "8d6431c7-4655-4cbe-b1e3-06e503923f60",
   "metadata": {},
   "outputs": [
    {
     "name": "stdout",
     "output_type": "stream",
     "text": [
      "89\n"
     ]
    }
   ],
   "source": [
    "#fibonacii series without reccurssive\n",
    "def fibonacci(n):\n",
    "    if n <= 0:\n",
    "        return 0\n",
    "    elif n == 1:\n",
    "        return 1\n",
    "    else:\n",
    "        a, b = 0, 1\n",
    "        for _ in range(2, n + 1):\n",
    "            a, b = b, a + b\n",
    "        return b\n",
    "print(fibonacci(11))"
   ]
  },
  {
   "cell_type": "code",
   "execution_count": 4,
   "id": "cbdc83c9-464b-4eb6-a8c6-c80737f4ae94",
   "metadata": {},
   "outputs": [
    {
     "name": "stdout",
     "output_type": "stream",
     "text": [
      "Move disk 1 from A to C\n",
      "Move disk 2 from A to B\n",
      "Move disk 1 from C to B\n",
      "Move disk 3 from A to C\n",
      "Move disk 1 from B to A\n",
      "Move disk 2 from B to C\n",
      "Move disk 1 from A to C\n"
     ]
    }
   ],
   "source": [
    "def towers_of_hanoi(n, source, auxiliary, destination):\n",
    "    if n == 1:\n",
    "        print(\"Move disk 1 from {} to {}\".format(source, destination))\n",
    "        return\n",
    "    towers_of_hanoi(n-1, source, destination, auxiliary)\n",
    "    print(\"Move disk {} from {} to {}\".format(n, source, destination))\n",
    "    towers_of_hanoi(n-1, auxiliary, source, destination)\n",
    "n = 3\n",
    "towers_of_hanoi(n, 'A', 'B', 'C')"
   ]
  },
  {
   "cell_type": "code",
   "execution_count": null,
   "id": "90b7b4f8-0536-41e9-8ae7-667f25380cd5",
   "metadata": {},
   "outputs": [],
   "source": []
  },
  {
   "cell_type": "code",
   "execution_count": null,
   "id": "c511fca7-4893-4d98-a7a2-684eb4c05b78",
   "metadata": {},
   "outputs": [],
   "source": []
  }
 ],
 "metadata": {
  "kernelspec": {
   "display_name": "Python 3 (ipykernel)",
   "language": "python",
   "name": "python3"
  },
  "language_info": {
   "codemirror_mode": {
    "name": "ipython",
    "version": 3
   },
   "file_extension": ".py",
   "mimetype": "text/x-python",
   "name": "python",
   "nbconvert_exporter": "python",
   "pygments_lexer": "ipython3",
   "version": "3.12.4"
  }
 },
 "nbformat": 4,
 "nbformat_minor": 5
}
