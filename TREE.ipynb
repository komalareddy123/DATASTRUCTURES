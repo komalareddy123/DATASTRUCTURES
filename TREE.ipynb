{
 "cells": [
  {
   "cell_type": "code",
   "execution_count": null,
   "id": "33a8ec92-5009-4a47-9cfe-723601bc4405",
   "metadata": {},
   "outputs": [],
   "source": [
    "there aree two types of tree travasal.\n",
    "they are: 1)Depth First Seasrch(In-order,Post-order,Pre-order)\n",
    "          2)Breadth First Search(Level-order)"
   ]
  },
  {
   "cell_type": "code",
   "execution_count": null,
   "id": "33d63f6e-0f21-4384-9239-962c5caad623",
   "metadata": {},
   "outputs": [],
   "source": [
    "Key idea for Pre-Order:\n",
    "1)visit the root\n",
    "2)Traverse the Left Subtree that is call\n",
    "  Preorder(Left subtree)\n",
    "3)Traverse the Right Subtree that is call\n",
    "  Preorder(Right subtree)\n",
    "\n",
    "Root -> Left -> Right\n",
    "\n",
    "In-Order travesal : A B D E C F G"
   ]
  },
  {
   "cell_type": "code",
   "execution_count": null,
   "id": "338ef08d-7440-40ee-96fb-5245e29c9b28",
   "metadata": {},
   "outputs": [],
   "source": [
    "Key idea for In-Order:\n",
    "1)Traverse the Left Subtree that is call\n",
    "  Preorder(Left subtree)\n",
    "2)visit the root\n",
    "3)Traverse the Right Subtree that is call\n",
    "  Preorder(Right subtree)\n",
    "\n",
    "Left -> Root -> Right\n",
    "\n",
    "In-Order travesal : D B E A F C G"
   ]
  },
  {
   "cell_type": "code",
   "execution_count": null,
   "id": "122595b7-36fd-459c-bf3e-ca535868ee43",
   "metadata": {},
   "outputs": [],
   "source": [
    "Key idea for Post-Order:\n",
    "1)Traverse the Left Subtree that is call\n",
    "  Preorder(Left subtree)\n",
    "2)Traverse the Right Subtree that is call\n",
    "  Preorder(Right subtree)\n",
    "3)visit the root\n",
    "\n",
    "Left -> Right -> Root\n",
    "\n",
    "Post-Order travesal : D E B F G C A"
   ]
  }
 ],
 "metadata": {
  "kernelspec": {
   "display_name": "Python 3 (ipykernel)",
   "language": "python",
   "name": "python3"
  },
  "language_info": {
   "codemirror_mode": {
    "name": "ipython",
    "version": 3
   },
   "file_extension": ".py",
   "mimetype": "text/x-python",
   "name": "python",
   "nbconvert_exporter": "python",
   "pygments_lexer": "ipython3",
   "version": "3.12.4"
  }
 },
 "nbformat": 4,
 "nbformat_minor": 5
}
